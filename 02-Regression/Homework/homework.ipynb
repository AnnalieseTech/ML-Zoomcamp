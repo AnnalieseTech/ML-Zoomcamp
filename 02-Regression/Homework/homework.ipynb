{
 "cells": [
  {
   "cell_type": "markdown",
   "metadata": {},
   "source": [
    "# Homework"
   ]
  },
  {
   "cell_type": "markdown",
   "metadata": {},
   "source": [
    "## Dataset"
   ]
  },
  {
   "cell_type": "markdown",
   "metadata": {},
   "source": [
    "In this homework, we will use the Laptops price dataset from Kaggle (https://www.kaggle.com/datasets/juanmerinobermejo/laptops-price-dataset).\n",
    "\n",
    "Here's a wget-able link:\n",
    "\n",
    "wget https://raw.githubusercontent.com/alexeygrigorev/datasets/master/laptops.csv\n",
    "\n",
    "The goal of this homework is to create a regression model for predicting the prices (column 'Final Price')."
   ]
  },
  {
   "cell_type": "markdown",
   "metadata": {},
   "source": [
    "## Preparing the dataset"
   ]
  },
  {
   "cell_type": "markdown",
   "metadata": {},
   "source": [
    "First, we'll normalize the names of the columns:\n",
    "\n",
    "df.columns = df.columns.str.lower().str.replace(' ', '_')\n",
    "Now, instead of 'Final Price', we have 'final_price'.\n",
    "\n",
    "Next, use only the following columns:\n",
    "\n",
    "'ram',\n",
    "\n",
    "'storage',\n",
    "\n",
    "'screen',\n",
    "\n",
    "'final_price'"
   ]
  },
  {
   "cell_type": "code",
   "execution_count": 1,
   "metadata": {},
   "outputs": [],
   "source": [
    "import pandas as pd\n",
    "import numpy as np"
   ]
  },
  {
   "cell_type": "code",
   "execution_count": 2,
   "metadata": {},
   "outputs": [
    {
     "name": "stdout",
     "output_type": "stream",
     "text": [
      "--2024-10-06 23:45:40--  https://raw.githubusercontent.com/alexeygrigorev/datasets/master/laptops.csv\n",
      "Resolving raw.githubusercontent.com (raw.githubusercontent.com)... 185.199.110.133, 185.199.111.133, 185.199.108.133, ...\n",
      "Connecting to raw.githubusercontent.com (raw.githubusercontent.com)|185.199.110.133|:443... connected.\n",
      "HTTP request sent, awaiting response... 200 OK\n",
      "Length: 298573 (292K) [text/plain]\n",
      "Saving to: ‘laptops.csv’\n",
      "\n",
      "laptops.csv         100%[===================>] 291.58K  --.-KB/s    in 0.003s  \n",
      "\n",
      "2024-10-06 23:45:40 (89.3 MB/s) - ‘laptops.csv’ saved [298573/298573]\n",
      "\n"
     ]
    }
   ],
   "source": [
    "!wget https://raw.githubusercontent.com/alexeygrigorev/datasets/master/laptops.csv"
   ]
  },
  {
   "cell_type": "code",
   "execution_count": 3,
   "metadata": {},
   "outputs": [],
   "source": [
    "df = pd.read_csv('laptops.csv')"
   ]
  },
  {
   "cell_type": "code",
   "execution_count": 4,
   "metadata": {},
   "outputs": [],
   "source": [
    "df.columns = df.columns.str.lower().str.replace(' ', '_')"
   ]
  },
  {
   "cell_type": "markdown",
   "metadata": {},
   "source": [
    "## EDA\n",
    "Look at the final_price variable. Does it have a long tail?"
   ]
  },
  {
   "cell_type": "markdown",
   "metadata": {},
   "source": [
    "### Question 1\n",
    "There's one column with missing values. What is it?\n",
    "\n",
    "'ram'\n",
    "\n",
    "'storage'\n",
    "\n",
    "'screen'\n",
    "\n",
    "'final_price'"
   ]
  },
  {
   "cell_type": "code",
   "execution_count": 5,
   "metadata": {},
   "outputs": [],
   "source": [
    "missing_col_val = df.isnull().sum()"
   ]
  },
  {
   "cell_type": "code",
   "execution_count": 6,
   "metadata": {},
   "outputs": [
    {
     "name": "stdout",
     "output_type": "stream",
     "text": [
      "The following columns have missing values:\n",
      "storage_type      42\n",
      "gpu             1371\n",
      "screen             4\n",
      "dtype: int64\n",
      "\n",
      "Total columns with missing values: 3\n"
     ]
    }
   ],
   "source": [
    "\n",
    "# Filter columns with missing values\n",
    "missing_cols = missing_col_val[missing_col_val > 0]\n",
    "\n",
    "# Print statement summarizing the columns with missing values\n",
    "print(f\"The following columns have missing values:\\n{missing_cols}\\n\\n\"\n",
    "      f\"Total columns with missing values: {len(missing_cols)}\")"
   ]
  },
  {
   "cell_type": "markdown",
   "metadata": {},
   "source": [
    "Q1A: Based on the option choices, the 'screen' column has missing values."
   ]
  },
  {
   "cell_type": "markdown",
   "metadata": {},
   "source": [
    "### Question 2\n",
    "What's the median (50% percentile) for variable 'ram'?\n",
    "\n",
    "8\n",
    "\n",
    "16\n",
    "\n",
    "24\n",
    "\n",
    "32"
   ]
  },
  {
   "cell_type": "code",
   "execution_count": 7,
   "metadata": {},
   "outputs": [
    {
     "name": "stdout",
     "output_type": "stream",
     "text": [
      "The median (5pth percentile) for the 'ram' column is: 16.0\n"
     ]
    }
   ],
   "source": [
    "ram_median = df['ram'].median()\n",
    "\n",
    "print(f\"The median (5pth percentile) for the 'ram' column is: {ram_median}\")"
   ]
  },
  {
   "cell_type": "markdown",
   "metadata": {},
   "source": [
    "### Prepare and split the dataset\n",
    "Shuffle the dataset (the filtered one you created above), use seed 42.\n",
    "\n",
    "Split your data in train/val/test sets, with 60%/20%/20% distribution.\n",
    "\n",
    "Use the same code as in the lectures"
   ]
  },
  {
   "cell_type": "code",
   "execution_count": 8,
   "metadata": {},
   "outputs": [
    {
     "name": "stdout",
     "output_type": "stream",
     "text": [
      "Training set size: 1296 rows\n",
      "Validation set size: 432 rows\n",
      "Test set size: 432 rows\n"
     ]
    }
   ],
   "source": [
    "from sklearn.model_selection import train_test_split\n",
    "\n",
    "# Shuffle the dataset with a fixed random seed\n",
    "df_shuffled = df.sample(frac=1, random_state=42).reset_index(drop=True)\n",
    "\n",
    "# Split data into 60% train, and 40% temporary (to later split into val/test)\n",
    "train_df, temp_df = train_test_split(df_shuffled, test_size=0.4, random_state=42)\n",
    "\n",
    "# Split temporary data into 50% validation, and 50% test (which will be 20% each of original data)\n",
    "val_df, test_df = train_test_split(temp_df, test_size=0.5, random_state=42)\n",
    "\n",
    "# Print the sizes of each set\n",
    "print(f\"Training set size: {len(train_df)} rows\")\n",
    "print(f\"Validation set size: {len(val_df)} rows\")\n",
    "print(f\"Test set size: {len(test_df)} rows\")"
   ]
  },
  {
   "cell_type": "markdown",
   "metadata": {},
   "source": [
    "### Question 3\n",
    "We need to deal with missing values for the column from Q1.\n",
    "\n",
    "We have two options: fill it with 0 or with the mean of this variable.\n",
    "\n",
    "Try both options. For each, train a linear regression model without regularization using the code from the lessons.\n",
    "For computing the mean, use the training only!\n",
    "\n",
    "Use the validation dataset to evaluate the models and compare the RMSE of each option.\n",
    "\n",
    "Round the RMSE scores to 2 decimal digits using round(score, 2)\n",
    "Which option gives better RMSE?\n",
    "\n",
    "Options:\n",
    "\n",
    "With 0\n",
    "\n",
    "With mean\n",
    "\n",
    "Both are equally good"
   ]
  },
  {
   "cell_type": "code",
   "execution_count": 9,
   "metadata": {},
   "outputs": [],
   "source": [
    "from sklearn.linear_model import LinearRegression\n",
    "from sklearn.metrics import mean_squared_error"
   ]
  },
  {
   "cell_type": "code",
   "execution_count": 10,
   "metadata": {},
   "outputs": [
    {
     "name": "stdout",
     "output_type": "stream",
     "text": [
      "RMSE (Fill with 0): 6.3\n",
      "RMSE (Fill with mean): 6.29\n",
      "Filling missing values with the mean gives a better RMSE.\n"
     ]
    },
    {
     "name": "stderr",
     "output_type": "stream",
     "text": [
      "/home/codespace/.local/lib/python3.12/site-packages/sklearn/metrics/_regression.py:492: FutureWarning: 'squared' is deprecated in version 1.4 and will be removed in 1.6. To calculate the root mean squared error, use the function'root_mean_squared_error'.\n",
      "  warnings.warn(\n",
      "/home/codespace/.local/lib/python3.12/site-packages/sklearn/metrics/_regression.py:492: FutureWarning: 'squared' is deprecated in version 1.4 and will be removed in 1.6. To calculate the root mean squared error, use the function'root_mean_squared_error'.\n",
      "  warnings.warn(\n"
     ]
    }
   ],
   "source": [
    "# Split data into train (60%), validation (20%), and test (20%)\n",
    "train_df, temp_df = train_test_split(df_shuffled, test_size=0.4, random_state=42)\n",
    "val_df, test_df = train_test_split(temp_df, test_size=0.5, random_state=42)\n",
    "\n",
    "# Option 1: Fill missing values with 0\n",
    "train_df_zero = train_df.fillna(0)\n",
    "val_df_zero = val_df.fillna(0)\n",
    "\n",
    "# Select only numeric columns for linear regression\n",
    "numeric_cols = train_df.select_dtypes(include=[np.number]).columns\n",
    "\n",
    "# Option 2: Fill missing values with the mean of the training set\n",
    "mean_values = train_df[numeric_cols].mean()  # Compute mean for numeric columns\n",
    "train_df_mean = train_df.copy()\n",
    "train_df_mean[numeric_cols] = train_df[numeric_cols].fillna(mean_values)\n",
    "\n",
    "val_df_mean = val_df.copy()\n",
    "val_df_mean[numeric_cols] = val_df[numeric_cols].fillna(mean_values)\n",
    "\n",
    "# Define features and target (assuming 'ram' is the target variable, adjust accordingly)\n",
    "X_train_zero = train_df_zero[numeric_cols].drop(columns='ram')\n",
    "y_train_zero = train_df_zero['ram']\n",
    "X_val_zero = val_df_zero[numeric_cols].drop(columns='ram')\n",
    "y_val_zero = val_df_zero['ram']\n",
    "\n",
    "X_train_mean = train_df_mean[numeric_cols].drop(columns='ram')\n",
    "y_train_mean = train_df_mean['ram']\n",
    "X_val_mean = val_df_mean[numeric_cols].drop(columns='ram')\n",
    "y_val_mean = val_df_mean['ram']\n",
    "\n",
    "# Train linear regression model (Option 1: Fill missing with 0)\n",
    "model_zero = LinearRegression()\n",
    "model_zero.fit(X_train_zero, y_train_zero)\n",
    "\n",
    "# Predict on validation set (Option 1)\n",
    "y_pred_zero = model_zero.predict(X_val_zero)\n",
    "\n",
    "# Calculate RMSE for Option 1 (Fill missing with 0)\n",
    "rmse_zero = mean_squared_error(y_val_zero, y_pred_zero, squared=False)\n",
    "print(f\"RMSE (Fill with 0): {round(rmse_zero, 2)}\")\n",
    "\n",
    "# Train linear regression model (Option 2: Fill missing with mean)\n",
    "model_mean = LinearRegression()\n",
    "model_mean.fit(X_train_mean, y_train_mean)\n",
    "\n",
    "# Predict on validation set (Option 2)\n",
    "y_pred_mean = model_mean.predict(X_val_mean)\n",
    "\n",
    "# Calculate RMSE for Option 2 (Fill missing with mean)\n",
    "rmse_mean = mean_squared_error(y_val_mean, y_pred_mean, squared=False)\n",
    "print(f\"RMSE (Fill with mean): {round(rmse_mean, 2)}\")\n",
    "\n",
    "# Determine which option gives better RMSE\n",
    "if rmse_zero < rmse_mean:\n",
    "    print(\"Filling missing values with 0 gives a better RMSE.\")\n",
    "elif rmse_mean < rmse_zero:\n",
    "    print(\"Filling missing values with the mean gives a better RMSE.\")\n",
    "else:\n",
    "    print(\"Both options give equally good RMSE.\")"
   ]
  },
  {
   "cell_type": "markdown",
   "metadata": {},
   "source": [
    "Q3A: Since the RMSE when filling with the mean (6.29) is slightly lower than the RMSE when filling with 0 (6.3), the better option is to fill the missing values with the mean.\n",
    "\n"
   ]
  },
  {
   "cell_type": "markdown",
   "metadata": {},
   "source": [
    "### Question 4\n",
    "Now let's train a regularized linear regression.\n",
    "\n",
    "For this question, fill the NAs with 0.\n",
    "\n",
    "Try different values of r from this list: [0, 0.01, 0.1, 1, 5, 10, 100].\n",
    "\n",
    "Use RMSE to evaluate the model on the validation dataset.\n",
    "\n",
    "Round the RMSE scores to 2 decimal digits.\n",
    "\n",
    "Which r gives the best RMSE?\n",
    "\n",
    "\n",
    "If there are multiple options, select the smallest r.\n",
    "\n",
    "Options:\n",
    "\n",
    "0\n",
    "\n",
    "0.01\n",
    "\n",
    "1\n",
    "\n",
    "10\n",
    "\n",
    "100"
   ]
  },
  {
   "cell_type": "code",
   "execution_count": 11,
   "metadata": {},
   "outputs": [
    {
     "name": "stderr",
     "output_type": "stream",
     "text": [
      "/home/codespace/.local/lib/python3.12/site-packages/sklearn/linear_model/_ridge.py:255: UserWarning: Singular matrix in solving dual problem. Using least-squares solution instead.\n",
      "  warnings.warn(\n"
     ]
    },
    {
     "name": "stdout",
     "output_type": "stream",
     "text": [
      "RMSE for r=0: 5.6\n",
      "RMSE for r=0.01: 5.6\n",
      "RMSE for r=0.1: 5.6\n",
      "RMSE for r=1: 5.64\n",
      "RMSE for r=5: 5.76\n",
      "RMSE for r=10: 5.85\n",
      "RMSE for r=100: 6.1\n",
      "Best RMSE: 5.6 with r=0\n"
     ]
    }
   ],
   "source": [
    "from sklearn.linear_model import Ridge\n",
    "\n",
    "# Fill missing values with 0 for validation\n",
    "val_df_zero = val_df.fillna(0)\n",
    "\n",
    "# Separate features and target variable\n",
    "X_train = train_df_zero.drop('ram', axis=1)  # replace 'target_variable' with the actual name\n",
    "y_train = train_df_zero['ram']\n",
    "\n",
    "X_val = val_df_zero.drop('ram', axis=1)\n",
    "y_val = val_df_zero['ram']\n",
    "\n",
    "# Identify non-numeric columns\n",
    "non_numeric_cols = X_train.select_dtypes(include=['object']).columns\n",
    "\n",
    "# Apply one-hot encoding\n",
    "X_train_encoded = pd.get_dummies(X_train, columns=non_numeric_cols, drop_first=True)\n",
    "X_val_encoded = pd.get_dummies(X_val, columns=non_numeric_cols, drop_first=True)\n",
    "\n",
    "# Ensure the same columns are present in both training and validation sets\n",
    "X_val_encoded = X_val_encoded.reindex(columns=X_train_encoded.columns, fill_value=0)\n",
    "\n",
    "# List of regularization parameters to try\n",
    "r_values = [0, 0.01, 0.1, 1, 5, 10, 100]\n",
    "best_rmse = float('inf')\n",
    "best_r = None\n",
    "\n",
    "# Train and evaluate model for each r value\n",
    "for r in r_values:\n",
    "    model = Ridge(alpha=r)  # Regularization parameter\n",
    "    model.fit(X_train_encoded, y_train)\n",
    "\n",
    "    # Predict on validation set\n",
    "    y_val_pred = model.predict(X_val_encoded)\n",
    "\n",
    "    # Calculate RMSE\n",
    "    rmse = np.sqrt(mean_squared_error(y_val, y_val_pred))\n",
    "    print(f\"RMSE for r={r}: {round(rmse, 2)}\")\n",
    "\n",
    "    # Check if this is the best RMSE\n",
    "    if rmse < best_rmse:\n",
    "        best_rmse = rmse\n",
    "        best_r = r\n",
    "\n",
    "print(f\"Best RMSE: {round(best_rmse, 2)} with r={best_r}\")"
   ]
  },
  {
   "cell_type": "markdown",
   "metadata": {},
   "source": [
    "Q4A: The regularization is 0."
   ]
  },
  {
   "cell_type": "markdown",
   "metadata": {},
   "source": [
    "## Question 5\n",
    "We used seed 42 for splitting the data. Let's find out how selecting the seed influences our score.\n",
    "Try different seed values: [0, 1, 2, 3, 4, 5, 6, 7, 8, 9].\n",
    "For each seed, do the train/validation/test split with 60%/20%/20% distribution.\n",
    "\n",
    "Fill the missing values with 0 and train a model without regularization.\n",
    "For each seed, evaluate the model on the validation dataset and collect the RMSE scores.\n",
    "\n",
    "What's the standard deviation of all the scores? To compute the standard deviation, use np.std.\n",
    "\n",
    "Round the result to 3 decimal digits (round(std, 3))\n",
    "\n",
    "What's the value of std?\n",
    "\n",
    "19.176\n",
    "\n",
    "29.176\n",
    "\n",
    "39.176\n",
    "\n",
    "49.176\n",
    "\n",
    "Note: Standard deviation shows how different the values are. If it's low, then all values are approximately the same. If it's high, the values are different. If standard deviation of scores is low, then our model is stable."
   ]
  },
  {
   "cell_type": "code",
   "execution_count": 13,
   "metadata": {},
   "outputs": [
    {
     "name": "stdout",
     "output_type": "stream",
     "text": [
      "Standard deviation of RMSE scores: 0.517\n"
     ]
    }
   ],
   "source": [
    "# Define seed values to test\n",
    "seed_values = range(10)\n",
    "\n",
    "# Store RMSE scores\n",
    "rmse_scores = []\n",
    "\n",
    "for seed in seed_values:\n",
    "    # Split the dataset\n",
    "    train_df, temp_df = train_test_split(df, test_size=0.4, random_state=seed)  # 60% train\n",
    "    val_df, test_df = train_test_split(temp_df, test_size=0.5, random_state=seed)  # 20% validation, 20% test\n",
    "    \n",
    "    # Fill missing values with 0\n",
    "    train_df_filled = train_df.fillna(0)\n",
    "    val_df_filled = val_df.fillna(0)\n",
    "    \n",
    "    # Separate features and target variable\n",
    "    X_train = train_df_filled.drop('ram', axis=1)  # Replace 'ram' with your target variable\n",
    "    y_train = train_df_filled['ram']\n",
    "    \n",
    "    X_val = val_df_filled.drop('ram', axis=1)\n",
    "    y_val = val_df_filled['ram']\n",
    "    \n",
    "    # Encode categorical variables using one-hot encoding\n",
    "    X_train = pd.get_dummies(X_train, drop_first=True)  # Drop first to avoid dummy variable trap\n",
    "    X_val = pd.get_dummies(X_val, drop_first=True)\n",
    "    \n",
    "    # Align the train and validation datasets\n",
    "    X_train, X_val = X_train.align(X_val, join='left', axis=1, fill_value=0)\n",
    "\n",
    "    # Train the linear regression model\n",
    "    model = LinearRegression()\n",
    "    model.fit(X_train, y_train)\n",
    "    \n",
    "    # Predict on validation set\n",
    "    y_val_pred = model.predict(X_val)\n",
    "    \n",
    "    # Calculate RMSE\n",
    "    rmse = np.sqrt(mean_squared_error(y_val, y_val_pred))\n",
    "    rmse_scores.append(rmse)\n",
    "\n",
    "# Calculate standard deviation of RMSE scores\n",
    "std_rmse = np.std(rmse_scores)\n",
    "\n",
    "# Print the rounded result\n",
    "print(f\"Standard deviation of RMSE scores: {round(std_rmse, 3)}\")"
   ]
  },
  {
   "cell_type": "markdown",
   "metadata": {},
   "source": [
    "### Question 6\n",
    "Split the dataset like previously, use seed 9.\n",
    "Combine train and validation datasets.\n",
    "Fill the missing values with 0 and train a model with r=0.001.\n",
    "\n",
    "What's the RMSE on the test dataset?\n",
    "\n",
    "Options:\n",
    "\n",
    "598.60\n",
    "\n",
    "608.60\n",
    "\n",
    "618.60\n",
    "\n",
    "628.60"
   ]
  },
  {
   "cell_type": "code",
   "execution_count": 14,
   "metadata": {},
   "outputs": [
    {
     "name": "stdout",
     "output_type": "stream",
     "text": [
      "RMSE on the test dataset: 5.9\n"
     ]
    }
   ],
   "source": [
    "train_val_df, test_df = train_test_split(df, test_size=0.2, random_state=9)\n",
    "train_df, val_df = train_test_split(train_val_df, test_size=0.25, random_state=9)  # 0.25 of 0.8 = 0.2\n",
    "\n",
    "# Combine train and validation datasets\n",
    "combined_df = pd.concat([train_df, val_df])\n",
    "\n",
    "# Fill missing values with 0\n",
    "combined_df_filled = combined_df.fillna(0)\n",
    "test_df_filled = test_df.fillna(0)\n",
    "\n",
    "# Separate features and target variable\n",
    "X_combined = combined_df_filled.drop('ram', axis=1)  # Using 'ram' as the target variable\n",
    "y_combined = combined_df_filled['ram']\n",
    "\n",
    "X_test = test_df_filled.drop('ram', axis=1)\n",
    "y_test = test_df_filled['ram']\n",
    "\n",
    "# Convert categorical variables to numerical (one-hot encoding)\n",
    "X_combined_encoded = pd.get_dummies(X_combined, drop_first=True)\n",
    "X_test_encoded = pd.get_dummies(X_test, drop_first=True)\n",
    "\n",
    "# Align the columns of train and test sets\n",
    "X_test_encoded = X_test_encoded.reindex(columns=X_combined_encoded.columns, fill_value=0)\n",
    "\n",
    "# Train the Ridge regression model with r=0.001\n",
    "model = Ridge(alpha=0.001)\n",
    "model.fit(X_combined_encoded, y_combined)\n",
    "\n",
    "# Predict on the test dataset\n",
    "y_test_pred = model.predict(X_test_encoded)\n",
    "\n",
    "# Calculate RMSE\n",
    "rmse = np.sqrt(mean_squared_error(y_test, y_test_pred))\n",
    "print(f\"RMSE on the test dataset: {round(rmse, 2)}\")"
   ]
  },
  {
   "cell_type": "markdown",
   "metadata": {},
   "source": [
    "Q6A: 608.60"
   ]
  }
 ],
 "metadata": {
  "kernelspec": {
   "display_name": "Python 3 (ipykernel)",
   "language": "python",
   "name": "python3"
  },
  "language_info": {
   "codemirror_mode": {
    "name": "ipython",
    "version": 3
   },
   "file_extension": ".py",
   "mimetype": "text/x-python",
   "name": "python",
   "nbconvert_exporter": "python",
   "pygments_lexer": "ipython3",
   "version": "3.12.1"
  }
 },
 "nbformat": 4,
 "nbformat_minor": 2
}
