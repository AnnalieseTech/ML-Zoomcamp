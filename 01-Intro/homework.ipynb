{
 "cells": [
  {
   "cell_type": "markdown",
   "metadata": {},
   "source": [
    "# Homework\n",
    "Set up the environment\n",
    "You need to install Python, NumPy, Pandas, Matplotlib and Seaborn. For that, you can use the instructions from 06-environment.md.\n",
    "\n",
    "Q1. Pandas version\n",
    "What's the version of Pandas that you installed?\n",
    "\n",
    "You can get the version information using the __version__ field:"
   ]
  },
  {
   "cell_type": "code",
   "execution_count": 1,
   "metadata": {},
   "outputs": [
    {
     "data": {
      "text/plain": [
       "'2.2.2'"
      ]
     },
     "execution_count": 1,
     "metadata": {},
     "output_type": "execute_result"
    }
   ],
   "source": [
    "import pandas as pd \n",
    "\n",
    "pd.__version__"
   ]
  },
  {
   "cell_type": "markdown",
   "metadata": {},
   "source": [
    "Q1A: I have the 2.2.2 version of Pandas."
   ]
  },
  {
   "cell_type": "markdown",
   "metadata": {},
   "source": [
    "## Getting the data\n",
    "For this homework, we'll use the Laptops Price dataset. Download it from here.\n",
    "\n",
    "You can do it with wget:\n",
    "\n",
    "wget https://raw.githubusercontent.com/alexeygrigorev/datasets/master/laptops.csv\n",
    "Or just open it with your browser and click \"Save as...\".\n",
    "\n",
    "Now read it with Pandas."
   ]
  },
  {
   "cell_type": "code",
   "execution_count": 2,
   "metadata": {},
   "outputs": [
    {
     "name": "stdout",
     "output_type": "stream",
     "text": [
      "Downloaded laptops.csv\n"
     ]
    }
   ],
   "source": [
    "import urllib.request\n",
    "\n",
    "url = 'https://raw.githubusercontent.com/alexeygrigorev/datasets/master/laptops.csv'\n",
    "filename = 'laptops.csv'\n",
    "\n",
    "urllib.request.urlretrieve(url, filename)\n",
    "print(f\"Downloaded {filename}\")\n"
   ]
  },
  {
   "cell_type": "markdown",
   "metadata": {},
   "source": [
    "## Q2. Records count\n",
    "How many records are in the dataset?\n",
    "\n",
    "12\n",
    "\n",
    "1000\n",
    "\n",
    "2160\n",
    "\n",
    "12160"
   ]
  },
  {
   "cell_type": "code",
   "execution_count": 3,
   "metadata": {},
   "outputs": [
    {
     "name": "stdout",
     "output_type": "stream",
     "text": [
      "Number of records (rows) in the dataset: 2160\n"
     ]
    }
   ],
   "source": [
    "df = pd.read_csv('laptops.csv')\n",
    "\n",
    "rows, columns = df.shape\n",
    "print(f\"Number of records (rows) in the dataset: {rows}\")"
   ]
  },
  {
   "cell_type": "markdown",
   "metadata": {},
   "source": [
    "Q2A: Since there are 2,160 rows, there are 2,160 records. "
   ]
  },
  {
   "cell_type": "markdown",
   "metadata": {},
   "source": [
    "## Q3. Laptop brands\n",
    "How many laptop brands are presented in the dataset?\n",
    "\n",
    "12\n",
    "\n",
    "27\n",
    "\n",
    "28\n",
    "\n",
    "2160"
   ]
  },
  {
   "cell_type": "code",
   "execution_count": 4,
   "metadata": {},
   "outputs": [
    {
     "name": "stdout",
     "output_type": "stream",
     "text": [
      "Number of unique laptop brands: 27\n"
     ]
    }
   ],
   "source": [
    "num_brands = df['Brand'].nunique()\n",
    "print(f\"Number of unique laptop brands: {num_brands}\")"
   ]
  },
  {
   "cell_type": "markdown",
   "metadata": {},
   "source": [
    "Q3A: There are 27 laptop brands in the dataset."
   ]
  },
  {
   "cell_type": "markdown",
   "metadata": {},
   "source": [
    "## Q4. Missing values\n",
    "How many columns in the dataset have missing values?\n",
    "\n",
    "0\n",
    "\n",
    "1\n",
    "\n",
    "2\n",
    "\n",
    "3"
   ]
  },
  {
   "cell_type": "code",
   "execution_count": 5,
   "metadata": {},
   "outputs": [
    {
     "name": "stdout",
     "output_type": "stream",
     "text": [
      "Number of columns with missing values: 3\n",
      "Storage type      42\n",
      "GPU             1371\n",
      "Screen             4\n",
      "dtype: int64\n"
     ]
    }
   ],
   "source": [
    "# Count the number of missing values in each column\n",
    "missing_values_per_column = df.isnull().sum()\n",
    "\n",
    "# Filter the columns with missing values (greater than 0)\n",
    "columns_with_missing_values = missing_values_per_column[missing_values_per_column > 0]\n",
    "\n",
    "# Print the number of columns with missing values\n",
    "print(f\"Number of columns with missing values: {len(columns_with_missing_values)}\")\n",
    "\n",
    "# Optionally, print the actual columns with missing values and their counts\n",
    "print(columns_with_missing_values)"
   ]
  },
  {
   "cell_type": "markdown",
   "metadata": {},
   "source": [
    "Q4A: There are 3 columns with missing values."
   ]
  },
  {
   "cell_type": "markdown",
   "metadata": {},
   "source": [
    "## Q5. Maximum final price\n",
    "What's the maximum final price of Dell notebooks in the dataset?\n",
    "\n",
    "869\n",
    "\n",
    "3691\n",
    "\n",
    "3849\n",
    "\n",
    "3936"
   ]
  },
  {
   "cell_type": "code",
   "execution_count": 9,
   "metadata": {},
   "outputs": [
    {
     "name": "stdout",
     "output_type": "stream",
     "text": [
      "Maximum final price of Dell notebooks: 3936.0\n"
     ]
    }
   ],
   "source": [
    "# Filter the dataset for Dell notebooks\n",
    "dell_notebooks = df[df['Brand'] == 'Dell']\n",
    "\n",
    "# Find the maximum final price of Dell notebooks\n",
    "max_price_dell = dell_notebooks['Final Price'].max()\n",
    "\n",
    "print(f\"Maximum final price of Dell notebooks: {max_price_dell}\")"
   ]
  },
  {
   "cell_type": "markdown",
   "metadata": {},
   "source": [
    "Q5A: The maximum final price of Dell notebooks are $3,936."
   ]
  },
  {
   "cell_type": "markdown",
   "metadata": {},
   "source": [
    "## Q6. Median value of Screen\n",
    "Find the median value of Screen column in the dataset.\n",
    "Next, calculate the most frequent value of the same Screen column.\n",
    "Use fillna method to fill the missing values in Screen column with the most frequent value from the previous step.\n",
    "Now, calculate the median value of Screen once again.\n",
    "Has it changed?\n",
    "\n",
    "Hint: refer to existing mode and median functions to complete the task.\n",
    "\n",
    "Yes\n",
    "\n",
    "No"
   ]
  },
  {
   "cell_type": "code",
   "execution_count": 10,
   "metadata": {},
   "outputs": [
    {
     "name": "stdout",
     "output_type": "stream",
     "text": [
      "Initial median of 'Screen': 15.6\n",
      "Most frequent value of 'Screen': 15.6\n"
     ]
    }
   ],
   "source": [
    "# 1. Find the median value of the 'Screen' column before filling missing values\n",
    "initial_median = df['Screen'].median()\n",
    "print(f\"Initial median of 'Screen': {initial_median}\")\n",
    "\n",
    "# 2. Calculate the most frequent value (mode) of the 'Screen' column\n",
    "most_frequent_screen = df['Screen'].mode()[0]\n",
    "print(f\"Most frequent value of 'Screen': {most_frequent_screen}\")\n",
    "\n",
    "# 3. Fill missing values in 'Screen' column with the most frequent value\n",
    "df['Screen'] = df['Screen'].fillna(most_frequent_screen)\n",
    "\n",
    "# 4. Recalculate the median value of the 'Screen' column after filling missing values\n",
    "new_median = df['Screen'].median\n"
   ]
  },
  {
   "cell_type": "markdown",
   "metadata": {},
   "source": [
    "Q6A: The median value of the screen did not change."
   ]
  },
  {
   "cell_type": "markdown",
   "metadata": {},
   "source": [
    "## Q7. Sum of weights\n",
    "Select all the \"Innjoo\" laptops from the dataset.\n",
    "Select only columns RAM, Storage, Screen.\n",
    "Get the underlying NumPy array. Let's call it X.\n",
    "Compute matrix-matrix multiplication between the transpose of X and X. To get the transpose, use X.T. Let's call the result XTX.\n",
    "Compute the inverse of XTX.\n",
    "Create an array y with values [1100, 1300, 800, 900, 1000, 1100].\n",
    "Multiply the inverse of XTX with the transpose of X, and then multiply the result by y. Call the result w.\n",
    "What's the sum of all the elements of the result?\n",
    "Note: You just implemented linear regression. We'll talk about it in the next lesson.\n",
    "\n",
    "0.43\n",
    "\n",
    "45.29\n",
    "\n",
    "45.58\n",
    "\n",
    "91.30"
   ]
  },
  {
   "cell_type": "code",
   "execution_count": 12,
   "metadata": {},
   "outputs": [
    {
     "name": "stdout",
     "output_type": "stream",
     "text": [
      "Sum of all elements of w: 91.2998806299555\n"
     ]
    }
   ],
   "source": [
    "import numpy as np\n",
    "\n",
    "# 1. Select all \"Innjoo\" laptops\n",
    "innjoo_laptops = df[df['Brand'] == 'Innjoo']\n",
    "\n",
    "# 2. Select only the columns 'RAM', 'Storage', and 'Screen'\n",
    "innjoo_features = innjoo_laptops[['RAM', 'Storage', 'Screen']]\n",
    "\n",
    "# 3. Get the underlying NumPy array (X)\n",
    "X = innjoo_features.values\n",
    "\n",
    "# 4. Compute XTX (matrix-matrix multiplication between X.T and X)\n",
    "XTX = X.T @ X  # Alternatively, np.dot(X.T, X)\n",
    "\n",
    "# 5. Compute the inverse of XTX\n",
    "XTX_inv = np.linalg.inv(XTX)\n",
    "\n",
    "# 6. Create the array y\n",
    "y = np.array([1100, 1300, 800, 900, 1000, 1100])\n",
    "\n",
    "# 7. Multiply the inverse of XTX with the transpose of X, then multiply by y\n",
    "w = XTX_inv @ X.T @ y\n",
    "\n",
    "# 8. Compute the sum of all elements of w\n",
    "w_sum = np.sum(w)\n",
    "print(f\"Sum of all elements of w: {w_sum}\")\n"
   ]
  }
 ],
 "metadata": {
  "kernelspec": {
   "display_name": "Python 3 (ipykernel)",
   "language": "python",
   "name": "python3"
  },
  "language_info": {
   "codemirror_mode": {
    "name": "ipython",
    "version": 3
   },
   "file_extension": ".py",
   "mimetype": "text/x-python",
   "name": "python",
   "nbconvert_exporter": "python",
   "pygments_lexer": "ipython3",
   "version": "3.12.1"
  }
 },
 "nbformat": 4,
 "nbformat_minor": 2
}
